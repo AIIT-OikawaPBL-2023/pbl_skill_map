{
 "cells": [
  {
   "cell_type": "code",
   "execution_count": 8,
   "metadata": {},
   "outputs": [],
   "source": [
    "import pandas as pd\n",
    "# 表示量\n",
    "pd.set_option('display.max_columns', 100)\n",
    "pd.set_option('display.max_rows', 100)\n",
    "\n",
    "# データを読み込む\n",
    "tag_skill_df = pd.read_csv(\"./Notion/sample.csv\")\n",
    "skill_df = pd.read_csv(\"./iCD2022/スキル一覧（スキル項目）.csv\")\n",
    "knowledge_df = pd.read_csv(\"./iCD2022/スキル一覧（知識項目）.csv\")\n",
    "career_skill_df = pd.read_csv(\"./iCD2022/職種×スキル対応表.csv\")\n",
    "career_df = pd.read_csv(\"./iCD2022/職種一覧.csv\")"
   ]
  },
  {
   "cell_type": "code",
   "execution_count": 12,
   "metadata": {},
   "outputs": [
    {
     "data": {
      "text/plain": [
       "'顧客における経営方針を確認し､その実現のための課題解決策の提案､ビジネスプロセス改善支援およびソリューション、製品、サービスの提案を実施し成約する。顧客との良好なリレーションを確立し、顧客満足度を高める。\\nIT投資の局面においては、経営戦略策定（目標とビジョンの策定、ビジネス戦略策定）および戦略的情報化企画（課題整理、ビジネスおよびIT分析）を主な活動領域として以下を実施する。\\n－経営戦略策定\\n・顧客における目標とビジョンの確認\\n・顧客におけるビジネス戦略の確認\\n－戦略的情報化企画\\n・顧客におけるビジネス課題の整理およびソリューションの提案'"
      ]
     },
     "execution_count": 12,
     "metadata": {},
     "output_type": "execute_result"
    }
   ],
   "source": [
    "career_df.head(100)"
   ]
  }
 ],
 "metadata": {
  "kernelspec": {
   "display_name": "Python 3",
   "language": "python",
   "name": "python3"
  },
  "language_info": {
   "codemirror_mode": {
    "name": "ipython",
    "version": 3
   },
   "file_extension": ".py",
   "mimetype": "text/x-python",
   "name": "python",
   "nbconvert_exporter": "python",
   "pygments_lexer": "ipython3",
   "version": "3.9.13"
  },
  "orig_nbformat": 4
 },
 "nbformat": 4,
 "nbformat_minor": 2
}
