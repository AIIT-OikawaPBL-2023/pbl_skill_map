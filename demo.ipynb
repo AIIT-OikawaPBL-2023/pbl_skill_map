{
 "cells": [
  {
   "cell_type": "code",
   "execution_count": 41,
   "metadata": {},
   "outputs": [],
   "source": [
    "import pandas as pd\n",
    "# 表示量\n",
    "pd.set_option('display.max_columns', 100)\n",
    "pd.set_option('display.max_rows', 100)\n",
    "\n",
    "# データを読み込む\n",
    "tag_skill_df = pd.read_csv(\"./Notion/Tags_スキル対応表.csv\")\n",
    "skill_df = pd.read_csv(\"./iCD2022/スキル一覧（スキル項目）.csv\")\n",
    "knowledge_df = pd.read_csv(\"./iCD2022/スキル一覧（知識項目）.csv\")\n",
    "knowledge_df = knowledge_df.drop(\"スキル項目識別子\", axis=1)\n",
    "career_skill_df = pd.read_csv(\"./iCD2022/職種×スキル対応表.csv\")\n",
    "career_df = pd.read_csv(\"./iCD2022/職種一覧.csv\")"
   ]
  },
  {
   "cell_type": "markdown",
   "metadata": {},
   "source": [
    "### Tags×スキル対応表の作成\n",
    "Tagsとスキルの対応関係の表を手動で作成する。\n",
    "1. スキル一覧（スキル項目）を眺めて対応しそうなスキルを見つける。\n",
    "2. スキル一覧（知識項目）を眺めてさらに対応しそうな知識項目を見つける。\n",
    "3. Tags×スキル対応表に書き出す。"
   ]
  },
  {
   "cell_type": "code",
   "execution_count": null,
   "metadata": {},
   "outputs": [],
   "source": [
    "# テーブルの結合\n",
    "skill_know_df = pd.merge(skill_df, knowledge_df, on=[\"スキル項目コード\"], how=\"inner\")\n",
    "pbl_skill_df = pd.merge(skill_know_df, tag_skill_df, on=[\"スキル項目コード\", \"知識項目コード\"], how=\"right\")\n",
    "pbl_career_df = pd.merge(career_skill_df, pbl_skill_df, on=[\"スキル項目コード\"], how=\"inner\")\n",
    "pbl_career_df = pd.merge(career_df, pbl_career_df, on=[\"専門分野コード\"], how=\"inner\")\n",
    "pbl_career_df\n"
   ]
  }
 ],
 "metadata": {
  "kernelspec": {
   "display_name": "Python 3",
   "language": "python",
   "name": "python3"
  },
  "language_info": {
   "codemirror_mode": {
    "name": "ipython",
    "version": 3
   },
   "file_extension": ".py",
   "mimetype": "text/x-python",
   "name": "python",
   "nbconvert_exporter": "python",
   "pygments_lexer": "ipython3",
   "version": "3.9.13"
  },
  "orig_nbformat": 4
 },
 "nbformat": 4,
 "nbformat_minor": 2
}
